{
  "nbformat": 4,
  "nbformat_minor": 0,
  "metadata": {
    "colab": {
      "provenance": [],
      "machine_shape": "hm",
      "gpuType": "V28"
    },
    "kernelspec": {
      "name": "python3",
      "display_name": "Python 3"
    },
    "language_info": {
      "name": "python"
    },
    "accelerator": "TPU"
  },
  "cells": [
    {
      "cell_type": "code",
      "source": [
        "pip install tensorflow"
      ],
      "metadata": {
        "colab": {
          "base_uri": "https://localhost:8080/"
        },
        "id": "P_FBoJGM9RLQ",
        "outputId": "ee7932a3-bd6f-43ce-fb81-ad5dadd1c910"
      },
      "execution_count": 47,
      "outputs": [
        {
          "output_type": "stream",
          "name": "stdout",
          "text": [
            "Requirement already satisfied: tensorflow in /usr/local/lib/python3.11/dist-packages (2.19.0)\n",
            "Requirement already satisfied: absl-py>=1.0.0 in /usr/local/lib/python3.11/dist-packages (from tensorflow) (1.4.0)\n",
            "Requirement already satisfied: astunparse>=1.6.0 in /usr/local/lib/python3.11/dist-packages (from tensorflow) (1.6.3)\n",
            "Requirement already satisfied: flatbuffers>=24.3.25 in /usr/local/lib/python3.11/dist-packages (from tensorflow) (25.2.10)\n",
            "Requirement already satisfied: gast!=0.5.0,!=0.5.1,!=0.5.2,>=0.2.1 in /usr/local/lib/python3.11/dist-packages (from tensorflow) (0.6.0)\n",
            "Requirement already satisfied: google-pasta>=0.1.1 in /usr/local/lib/python3.11/dist-packages (from tensorflow) (0.2.0)\n",
            "Requirement already satisfied: libclang>=13.0.0 in /usr/local/lib/python3.11/dist-packages (from tensorflow) (18.1.1)\n",
            "Requirement already satisfied: opt-einsum>=2.3.2 in /usr/local/lib/python3.11/dist-packages (from tensorflow) (3.4.0)\n",
            "Requirement already satisfied: packaging in /usr/local/lib/python3.11/dist-packages (from tensorflow) (24.2)\n",
            "Requirement already satisfied: protobuf!=4.21.0,!=4.21.1,!=4.21.2,!=4.21.3,!=4.21.4,!=4.21.5,<6.0.0dev,>=3.20.3 in /usr/local/lib/python3.11/dist-packages (from tensorflow) (5.29.4)\n",
            "Requirement already satisfied: requests<3,>=2.21.0 in /usr/local/lib/python3.11/dist-packages (from tensorflow) (2.32.3)\n",
            "Requirement already satisfied: setuptools in /usr/local/lib/python3.11/dist-packages (from tensorflow) (75.2.0)\n",
            "Requirement already satisfied: six>=1.12.0 in /usr/local/lib/python3.11/dist-packages (from tensorflow) (1.17.0)\n",
            "Requirement already satisfied: termcolor>=1.1.0 in /usr/local/lib/python3.11/dist-packages (from tensorflow) (3.0.1)\n",
            "Requirement already satisfied: typing-extensions>=3.6.6 in /usr/local/lib/python3.11/dist-packages (from tensorflow) (4.13.1)\n",
            "Requirement already satisfied: wrapt>=1.11.0 in /usr/local/lib/python3.11/dist-packages (from tensorflow) (1.17.2)\n",
            "Requirement already satisfied: grpcio<2.0,>=1.24.3 in /usr/local/lib/python3.11/dist-packages (from tensorflow) (1.71.0)\n",
            "Requirement already satisfied: tensorboard~=2.19.0 in /usr/local/lib/python3.11/dist-packages (from tensorflow) (2.19.0)\n",
            "Requirement already satisfied: keras>=3.5.0 in /usr/local/lib/python3.11/dist-packages (from tensorflow) (3.8.0)\n",
            "Requirement already satisfied: numpy<2.2.0,>=1.26.0 in /usr/local/lib/python3.11/dist-packages (from tensorflow) (2.0.2)\n",
            "Requirement already satisfied: h5py>=3.11.0 in /usr/local/lib/python3.11/dist-packages (from tensorflow) (3.13.0)\n",
            "Requirement already satisfied: ml-dtypes<1.0.0,>=0.5.1 in /usr/local/lib/python3.11/dist-packages (from tensorflow) (0.5.1)\n",
            "Requirement already satisfied: tensorflow-io-gcs-filesystem>=0.23.1 in /usr/local/lib/python3.11/dist-packages (from tensorflow) (0.37.1)\n",
            "Requirement already satisfied: wheel<1.0,>=0.23.0 in /usr/local/lib/python3.11/dist-packages (from astunparse>=1.6.0->tensorflow) (0.45.1)\n",
            "Requirement already satisfied: rich in /usr/local/lib/python3.11/dist-packages (from keras>=3.5.0->tensorflow) (14.0.0)\n",
            "Requirement already satisfied: namex in /usr/local/lib/python3.11/dist-packages (from keras>=3.5.0->tensorflow) (0.0.8)\n",
            "Requirement already satisfied: optree in /usr/local/lib/python3.11/dist-packages (from keras>=3.5.0->tensorflow) (0.14.1)\n",
            "Requirement already satisfied: charset-normalizer<4,>=2 in /usr/local/lib/python3.11/dist-packages (from requests<3,>=2.21.0->tensorflow) (3.4.1)\n",
            "Requirement already satisfied: idna<4,>=2.5 in /usr/local/lib/python3.11/dist-packages (from requests<3,>=2.21.0->tensorflow) (3.10)\n",
            "Requirement already satisfied: urllib3<3,>=1.21.1 in /usr/local/lib/python3.11/dist-packages (from requests<3,>=2.21.0->tensorflow) (2.3.0)\n",
            "Requirement already satisfied: certifi>=2017.4.17 in /usr/local/lib/python3.11/dist-packages (from requests<3,>=2.21.0->tensorflow) (2025.1.31)\n",
            "Requirement already satisfied: markdown>=2.6.8 in /usr/lib/python3/dist-packages (from tensorboard~=2.19.0->tensorflow) (3.3.6)\n",
            "Requirement already satisfied: tensorboard-data-server<0.8.0,>=0.7.0 in /usr/local/lib/python3.11/dist-packages (from tensorboard~=2.19.0->tensorflow) (0.7.2)\n",
            "Requirement already satisfied: werkzeug>=1.0.1 in /usr/local/lib/python3.11/dist-packages (from tensorboard~=2.19.0->tensorflow) (3.1.3)\n",
            "Requirement already satisfied: MarkupSafe>=2.1.1 in /usr/local/lib/python3.11/dist-packages (from werkzeug>=1.0.1->tensorboard~=2.19.0->tensorflow) (3.0.2)\n",
            "Requirement already satisfied: markdown-it-py>=2.2.0 in /usr/local/lib/python3.11/dist-packages (from rich->keras>=3.5.0->tensorflow) (3.0.0)\n",
            "Requirement already satisfied: pygments<3.0.0,>=2.13.0 in /usr/local/lib/python3.11/dist-packages (from rich->keras>=3.5.0->tensorflow) (2.19.1)\n",
            "Requirement already satisfied: mdurl~=0.1 in /usr/local/lib/python3.11/dist-packages (from markdown-it-py>=2.2.0->rich->keras>=3.5.0->tensorflow) (0.1.2)\n"
          ]
        }
      ]
    },
    {
      "cell_type": "code",
      "source": [
        "import os\n",
        "import shutil\n",
        "import pathlib\n",
        "import random\n",
        "\n",
        "import numpy as np\n",
        "import tensorflow as tf\n",
        "from tensorflow import keras\n",
        "from tensorflow.keras import layers\n",
        "\n",
        "import matplotlib.pyplot as plt\n"
      ],
      "metadata": {
        "id": "Ek3598xt9VMK"
      },
      "execution_count": 48,
      "outputs": []
    },
    {
      "cell_type": "code",
      "source": [
        "# Fetch and prepare the IMDB dataset\n",
        "!wget https://ai.stanford.edu/~amaas/data/sentiment/aclImdb_v1.tar.gz -O imdb_dataset.tar.gz\n",
        "!tar -xzf imdb_dataset.tar.gz\n",
        "!rm -rf aclImdb/train/unsup\n"
      ],
      "metadata": {
        "colab": {
          "base_uri": "https://localhost:8080/"
        },
        "id": "HC0TUMiX9-kj",
        "outputId": "9bd536b2-f5aa-4291-98fa-e219d74377e0"
      },
      "execution_count": 49,
      "outputs": [
        {
          "output_type": "stream",
          "name": "stdout",
          "text": [
            "--2025-04-08 16:55:27--  https://ai.stanford.edu/~amaas/data/sentiment/aclImdb_v1.tar.gz\n",
            "Resolving ai.stanford.edu (ai.stanford.edu)... 171.64.68.10\n",
            "Connecting to ai.stanford.edu (ai.stanford.edu)|171.64.68.10|:443... connected.\n",
            "HTTP request sent, awaiting response... 200 OK\n",
            "Length: 84125825 (80M) [application/x-gzip]\n",
            "Saving to: ‘imdb_dataset.tar.gz’\n",
            "\n",
            "imdb_dataset.tar.gz 100%[===================>]  80.23M  20.7MB/s    in 4.4s    \n",
            "\n",
            "2025-04-08 16:55:32 (18.1 MB/s) - ‘imdb_dataset.tar.gz’ saved [84125825/84125825]\n",
            "\n"
          ]
        }
      ]
    },
    {
      "cell_type": "code",
      "execution_count": 50,
      "metadata": {
        "id": "5De9jgHN8Yat"
      },
      "outputs": [],
      "source": [
        "import os\n",
        "\n",
        "def review_summary(directory=\"aclImdb\", max_files=5):\n",
        "    for dataset_type in [\"train\", \"test\"]:\n",
        "        print(f\"\\nDataset Type: '{dataset_type}'\")\n",
        "        for label in [\"pos\", \"neg\"]:\n",
        "            print(f\"  Review Type: {label}\")\n",
        "            dir_path = os.path.join(directory, dataset_type, label)\n",
        "            file_list = os.listdir(dir_path)[:max_files]\n",
        "            for idx, review_file in enumerate(file_list):\n",
        "                review_path = os.path.join(dir_path, review_file)\n",
        "                with open(review_path, \"r\", encoding=\"utf-8\") as review:\n",
        "                    lines = review.readlines()\n",
        "                print(f\"\\n  Review {idx + 1}: {review_file}\")\n",
        "                print(f\"    Total Lines: {len(lines)}\")\n",
        "                print(f\"    Preview (up to 5 lines):\")\n",
        "                print(\"    \" + \"\\n    \".join(lines[:5]).strip())\n"
      ]
    },
    {
      "cell_type": "code",
      "source": [
        "review_summary(directory=\"aclImdb\", max_files=5)\n"
      ],
      "metadata": {
        "colab": {
          "base_uri": "https://localhost:8080/"
        },
        "id": "vRFaie4U8aPn",
        "outputId": "fe33f2e8-62e4-45f0-c457-d9d69d429c24"
      },
      "execution_count": 51,
      "outputs": [
        {
          "output_type": "stream",
          "name": "stdout",
          "text": [
            "\n",
            "Dataset Type: 'train'\n",
            "  Review Type: pos\n",
            "\n",
            "  Review 1: 7880_8.txt\n",
            "    Total Lines: 1\n",
            "    Preview (up to 5 lines):\n",
            "    The plot of this enjoyable MGM musical is contrived and only occasionally amusing, dealing with espionage and romance but the focus of the film is properly pointed upon the tuneful interludes showcasing the enormously talented and athletic tap dancing Eleanor Powell, abetted by Tommy Dorsey and his orchestra, featuring Ziggy Elman, Buddy Rich and Frank Sinatra. Red Skelton shares top billing with Powell, and he and sidekick Bert Lahr are given most of the comedic minutes, although Skelton is more effective when he, if it can be believed, performs as Powell's love interest, with Virginia O'Brien actually providing most of the film's humor as the dancer's companion. The technical brilliance of Powell is evidenced during one incredible scene within which Buddy Rich contributes his drumming skills, and which must be viewed several times in order to permit one's breathing to catch up with her precision. Director Edward Buzzell utilizes his large cast well to move the action nicely along despite the rather disjointed script with which he must deal, and permits Powell's cotangent impossibilities to rule the affair, as is appropriate.\n",
            "\n",
            "  Review 2: 3815_7.txt\n",
            "    Total Lines: 1\n",
            "    Preview (up to 5 lines):\n",
            "    Corean cinema can be quite surprising for an occidental audience, because of the multiplicity of the tones and genres you can find in the same movie. In a Coreen drama such as this \"Secret Sunshine\", you'll also find some comical parts, thriller scenes and romantic times. \"There's not only tragedy in life, there's also tragic-comedy\" says at one point of the movie the character interpreted by Song Kang-ho, summing up the mixture of the picture. But don't get me wrong, this heterogeneity of the genres the movie deals with, adds veracity to the experience this rich movie offers to its spectators. That doesn't mean that it lacks unity : on the contrary, it's rare to see such a dense and profound portrait of a woman in pain.<br /><br />Shin-ae, who's in quest for a quiet life with her son in the native town of her late husband, really gives, by all the different faces of suffering she's going through, unity to this movie. It's realistic part is erased by the psychological descriptions of all the phases the poor mother is going through. Denial, lost, anger, faith, pert of reality : the movie fallows all the steps the character crosses, and looks like a psychological catalog of all the suffering phases a woman can experience.<br /><br />The only thing is to accept what may look like a conceptual experience (the woman wears the mask of tragedy, the man represents the comical interludes) and to let the artifices of the movie touch you. I must say that some parts of the movie really did move me (especialy in the beginning), particularly those concerning the unability of Chang Joan to truly help the one he loves, but also that the accumulation of suffering emotionally tired me towards the end. Nevertheless, some cinematographic ideas are really breathtaking and surprising (the scene where a body is discovered in a large shot is for instance amazing). This kind of scenes makes \"Secret Sunshine\" the melo equivalent of \"The Host\" for horror movies or \"Memories of murder\" for thrillers. These movies are indeed surprising, most original, aesthetically incredible, and manage to give another dimension to the genres they deal with. The only thing that \"Secret Sunshine\" forgets, as \"The host\" forgot to be scary, is to make its audience cry : bad point for a melodrama, but good point for a good film.\n",
            "\n",
            "  Review 3: 7472_9.txt\n",
            "    Total Lines: 1\n",
            "    Preview (up to 5 lines):\n",
            "    I really liked this movie. I've read a few of the other comments, and although I pity those who did not understand it, I do agree with some of the criticisms. Which, in a strange way, makes me like this movie all the more. I accept that they have got a pretty cast to remake an intelligent movie for the general public, yet it has so many levels and is still great to watch. I also love the movies, such as this one, which provoke so many debates, theories, possible endings and hidden subtext. Congratulations Mr.Crowe, definitely in my Top Ten.<br /><br />P.S. Saw this when it first came out whilst I was backpacking in Mexico, it was late at night and I had to get back to my hotel and I had a major paranoia trip! Where does the dream end and the real begin?\n",
            "\n",
            "  Review 4: 11969_10.txt\n",
            "    Total Lines: 1\n",
            "    Preview (up to 5 lines):\n",
            "    I loved this show growing up and I still watch the first season DVD at age 19 today. What can I say? I grew up in a house much like the one on Full House. I had a dad, two sisters, and a dog. I guess the only difference was that I did not live with my uncle and my dad's best friend. Also, I grew up with my mom in the house. I don't know what I would have done without Full House on television. I think that Stephanie (played by Jodie Sweetin), D.J. (played by Kirk Cameron's sister Candace), and Michelle (Played by Mary-Kate and Ashley Olsen) are my favorite characters. I can relate to each of them because I am the middle child of my family like Steph, I am a younger sister like Michelle, and I am an older sister like D.J. I really like how the show always has moral values because I don't really like any of the O.C.-like shows today. I like the comedy of Full House, too. Uncle Jesse (John Stamos), Joey (Dave Coulier), and Danny (Bob Saget) are hilarious as the girls' uncle, dad's friend, and dad, respectively. The story goes that, after the girls' mom dies, Danny's best friend Joey and his brother-in-law, Jesse move in to help raise the kids. Three men trying to raise three young girls=hilarious. Each character on Full House is full of heart, funny, and genuinely believable. Joey is an aspiring comedian with a kid's heart and soul. Jesse is the cool, motorcycle riding, tough-guy uncle who is softened by his three nieces, and later, his wife Becky (Laurie Laughlin, from Summerville). Both kids and adults will love this show. Guaranteed.\n",
            "\n",
            "  Review 5: 4182_10.txt\n",
            "    Total Lines: 1\n",
            "    Preview (up to 5 lines):\n",
            "    I saw this Australian film about 10 years ago and have never forgotten it. The movie shows the horror of war in a way that Hollywood usually glosses over. The relationship between the soldiers of the two warring countries is highlighted by the differences in culture and the ultimate knowledge that in the end we are all really not different on the inside. If you can find any type of copy of this--buy or rent it. You won't be disappointed, just awed.\n",
            "  Review Type: neg\n",
            "\n",
            "  Review 1: 2308_1.txt\n",
            "    Total Lines: 1\n",
            "    Preview (up to 5 lines):\n",
            "    OK, the box looks promising. Whoopi Goldberg standing next to Danny Glover parodying the famous farmer and his wife painting. Then you pop this baby in the DVD player and all hope is lost in less then five minutes. Supposed to be a comedy. And I must admit I did laugh once about ten minutes before the ending. This movie has the following elements: A battered and abused next door neighbor, a boring legal trial, racisim, talk of lynchings, and death and arson. Hilarious, huh? No, please, if you never listen to anyone's reviews, please do here. You cannot even force yourself to watch this crap. CRAP! I said it, CRAP! Whoever put there name on this should indeed sue.\n",
            "\n",
            "  Review 2: 10837_1.txt\n",
            "    Total Lines: 1\n",
            "    Preview (up to 5 lines):\n",
            "    I can't tell you how angry I was after seing this movie. The characters are not the slightest bit interesting, and the plot is non-existant. So after waiting to see how the lives of these characters affected each other, hoping that the past 2 and a half hours were leading up to some significant finish, what do we get??? A storm of frogs. Now yes, I understand the references to the bible (Exodus) and the underlying theme, but first of all, it was presented with absolutely no resolution, and second of all it would be lost to anyone who has not read the bible (a significant portion of the population) or Charles Fort (a still larger portion). As a somewhat well read person, I thought this movie was a self indulgent poor imitation of a seinfeld episode.<br /><br />Don't waste your time. It would be better spent reading...<br /><br />...well anything to be honest\n",
            "\n",
            "  Review 3: 890_2.txt\n",
            "    Total Lines: 1\n",
            "    Preview (up to 5 lines):\n",
            "    I saw this regurgitated pile of vignettes tonight at a preview screening and I was straight up blown away by how bad it was. <br /><br />First off, the film practically flaunted its gaping blind spots. There are no black or gay New Yorkers in love? Or who, say, know the self-involved white people in love? I know it's not the love Crash of anvil-tastic inclusiveness but you can't pretend to have a cinematic New York with out these fairly prevalent members of society. Plus, you know the people who produced this ish thought Crash deserved that ham-handed Oscar, so where is everyone? <br /><br />Possibly worse than the bizarre and willful socioeconomic ignorance were the down right offensive chapters (remember when you were in high school and people were openly disgusted with pretty young women in wheelchairs? Me either). This movie ran the gamut of ways to be the worst. Bad acting, bad writing, bad directing -- all spanning every possible genre ever to concern wealthy white people who smoke cigarettes outside fancy restaurants. <br /><br />But thank god they finally got powerhouses Hayden Christensen and Rachel Bilson back together for that Jumper reunion. And, side note, Uma dodged a bullet; Ethan Hawke looks ravaged. This, of course, is one thing in terms of his looks, but added an incredibly creepy extra vibe of horribleness to his terrifyingly scripted scene opposite poor, lovely Maggie Q.<br /><br />I had a terrible time choosing my least favorite scene for the end of film questionnaire, but it has to be the Anton Yelchin/ Olivia Thirlby bit for the sheer lack of taste, which saddens me because I really like those two actors. I don't consider myself easily offended, but all I could do was scoff and look around with disgust like someone's 50 year old aunt. <br /><br />A close second place in this incredibly tight contest of terrible things is Shia LaBeouf's tone deaf portrayal of what it means for a former Disney Channel star to act against Julie Christie. I don't mean opposite, I mean against. Against is the only explanation. I realize now that the early sequence with Orlando Bloom is a relative highlight. HIGHLIGHT. Please keep that in mind when your brain begins to leak out your ear soon after the opening credits, which seem to be a nod to the first New York Real World. This film is embarrassing, strangely dated, inarticulate, ineffective, pretentious and, in the end, completely divorced from any real idea of New York at all. <br /><br />(The extra star is for the Cloris Leachman/ Eli Wallach sequence, as it is actually quite sweet, but it is only one bright spot in what feels like hours of pointless, masturbatory torment.)\n",
            "\n",
            "  Review 4: 7974_3.txt\n",
            "    Total Lines: 1\n",
            "    Preview (up to 5 lines):\n",
            "    It's interesting at first. A naive park ranger (Colin Firth) marries a pretty, mysterious woman (Lisa Zane) he's only known for a short time. They seem to be happy, then she disappears without warning. He searches for her and, after a few dead ends, stumbles upon some of her abused childhood and sleazy recent past, which may include criminal activity. And then, it seems the filmmakers didn't know what to do with the story. The beginning, while not as suspenseful as it sounds, is at least watchable. Then it ceases to be interesting or even make much sense. And the ending is so lame, so dull, and so devoid of any excitement or intelligence, you'll think the screenwriters didn't know what to do with it and got bored trying. What a sorry waste of a good idea!\n",
            "\n",
            "  Review 5: 3619_3.txt\n",
            "    Total Lines: 1\n",
            "    Preview (up to 5 lines):\n",
            "    Basically there's a family where a little boy (Jake) thinks there's a zombie in his closet & his parents are fighting all the time.<br /><br />This movie is slower than a soap opera... and suddenly, Jake decides to become Rambo and kill the zombie.<br /><br />OK, first of all when you're going to make a film you must Decide if its a thriller or a drama! As a drama the movie is watchable. Parents are divorcing & arguing like in real life. And then we have Jake with his closet which totally ruins all the film! I expected to see a BOOGEYMAN similar movie, and instead i watched a drama with some meaningless thriller spots.<br /><br />3 out of 10 just for the well playing parents & descent dialogs. As for the shots with Jake: just ignore them.\n",
            "\n",
            "Dataset Type: 'test'\n",
            "  Review Type: pos\n",
            "\n",
            "  Review 1: 9554_10.txt\n",
            "    Total Lines: 1\n",
            "    Preview (up to 5 lines):\n",
            "    Watch out! This is not a gross out comedy like American Pie or you know the comedies of the new millenium. This is a sweet satire of dog shows focused on a bunch of completely different characters. Oh and the commentator is hilarious!<br /><br />10/10\n",
            "\n",
            "  Review 2: 2027_8.txt\n",
            "    Total Lines: 1\n",
            "    Preview (up to 5 lines):\n",
            "    I seen this movie when it came out. I thought what an average movie. I have now realized that this director was ahead of his time. This is a great movie and great soundtrack. I have seen my share of rock films but although this is far from spinal tap (which I did not like)> This film does take us into the life of an 80s rocker wanting to be nothing but. This is nothing more than our inner child wanting to grow up and to be a *ROCK STAR* Yeah I said it. Everyone wants to grow up and be on the spot light( Weather said or not). This movie just puts you in the core of emotions and you can almost feel the excitement of Izzy. I must admit the acting was less par but still the music and story was enough to hold you in to it, till the credits rolled. Worth the watch especially if you are a fan of ye Ole mighty hair bands.\n",
            "\n",
            "  Review 3: 9194_10.txt\n",
            "    Total Lines: 1\n",
            "    Preview (up to 5 lines):\n",
            "    Like in \"Les amants du Pont-Neuf\" two outsiders lives a love story without concessions. The film consists out of a lot of interesting conversation and a lot of sweet moments. The best one comes in a listening booth. They listen to a record together and once in a while they look at each other. They talk, they like each other. She suggests a change in their lives but he is out of hope. The realistic stylestrokes over the realistic (but) emotive dialogs. A really mathematic screenwriter's work for this film. Spanish novel director Jesus Ponce creates one of the most perfect gallery from the latest year of Spanish cinema.\n",
            "\n",
            "  Review 4: 7472_9.txt\n",
            "    Total Lines: 1\n",
            "    Preview (up to 5 lines):\n",
            "    I saw this movie yesterday. I must admit - I love it! It's like early Tarantino, but better. Really a must, but... don't show this movie to anyone younger than 18. It's full of blood and sex (rape scene is great :) ). Now I'm just waiting for other movies of this director and a DVD release.\n",
            "\n",
            "  Review 5: 11969_10.txt\n",
            "    Total Lines: 1\n",
            "    Preview (up to 5 lines):\n",
            "    Scary in places though the effects did leave something to be desired unless you have bad eyesight or are afraid of the dark. However most of the acting was convincing and most of the effects were well done. I thought the creature looked a bit too much like a man in a gorilla suit for my liking. It reminded me of the original pink panther film.\n",
            "  Review Type: neg\n",
            "\n",
            "  Review 1: 4050_3.txt\n",
            "    Total Lines: 1\n",
            "    Preview (up to 5 lines):\n",
            "    Skip all the subjective \"this is a great film\" reviews and read the IMDB trailer or the back the KINO videobox (which includes both versions of this flick) which I'll paraphrase: \"To the tune of sci-fi score by George Antheil, the camera goes on a sleepwalk through B-Movie hell, all photographed by Will Thompson (who did 'Plan 9 from outer space' & 'Maniac').\" You don't know whether to laugh AT the film or WITH it. So if you like self-produced B or C-grade noir-wannabe actors and effects with pretensions of surrealism, this could be for you! Otherwise, get a copy of \"Screamplay\", a modern low-budget expressionist masterpiece.\n",
            "\n",
            "  Review 2: 10837_1.txt\n",
            "    Total Lines: 1\n",
            "    Preview (up to 5 lines):\n",
            "    Possibly the worst movie I have ever seen. Pathetic in almost every way.<br /><br />I threw the DVD straight in the bin - I didn't even think it was fair to give it to the local thrift shop.<br /><br />The effects are beyond a joke. The dam control room looks like cardboard. The water looks way out of scale with the backgrounds - nothing works.<br /><br />Then there is the limp plot - about as much depth as a Scooby Doo cartoon.<br /><br />I couldn't wait for them all to drown.\n",
            "\n",
            "  Review 3: 8906_1.txt\n",
            "    Total Lines: 1\n",
            "    Preview (up to 5 lines):\n",
            "    I got hold of this film on DVD with the title Evil Never Sleeps, it gives front cover billing to Carrie Ann Moss, but she plays such a minor character that I didn't really notice her in the film.<br /><br />I'm afraid that I consider this one of the worst purchases I have ever made. The dialogue was stilted and the delivery wooden, I found the acting to be disconnected from the plot. Graham's performance to me was of someone who's wondering whether she's left the gas on at home.<br /><br />All in all both my wife and I found this film painful to watch, and it is not a valuable addition to my collection, watch it at your peril, but spending 90 minutes having your fingernails pulled out would probably be a better way to spend your time.\n",
            "\n",
            "  Review 4: 8644_4.txt\n",
            "    Total Lines: 1\n",
            "    Preview (up to 5 lines):\n",
            "    William Petersen (that C.S.I guy) has a small uncredited role but it's the best part of the movie. His character comes across smart ass and tough, and it's a fun surprise to see him in this. He has a range that allows him to play just about anything. After his 5 minutes, it goes from looking cool to just nothing much. It leaves you hoping that his character will reappear in the movie but after 20 minutes you give up hope. The movie itself is pretty poor. Worth a watch on TMN or a pick up at the library but not much more. Too much of it reminds you of L.A Confidential except that where that movie starts to get complicated upon itself, this one is so loose, it steers everywhere but where it should. 2 out of 5 stars\n",
            "\n",
            "  Review 5: 5276_4.txt\n",
            "    Total Lines: 1\n",
            "    Preview (up to 5 lines):\n",
            "    The German regional-broadcast-station WDR has shown both \"The General\" and ODC. On Saturday I've seen \"The General\" and I thought, it wasn't very bad, but not very good too. But yesterday I've seen ODC and I switched it off after about an hour. Although Kevin Spacey was the main actor the movie was totally confusing and seems restless. \"The General\" told the story straight and ordered, but ODC just wanted to be cool. There is a reference on the Guy Ritchie Movies \"Lock, Stock and Two Smoking Barrels\" and \"Snatch\", but doesn't have the Coolness of these movies.<br /><br />So, in the end I would rate it 3 of 10!\n"
          ]
        }
      ]
    },
    {
      "cell_type": "code",
      "source": [
        "# Set up dataset folders\n",
        "batch_sz = 32\n",
        "root_path = pathlib.Path(\"aclImdb\")\n",
        "validation_path = root_path / \"val\"\n",
        "training_path = root_path / \"train\"\n",
        "\n",
        "for label in (\"neg\", \"pos\"):\n",
        "    os.makedirs(validation_path / label, exist_ok=True)\n",
        "    file_names = os.listdir(training_path / label)\n",
        "    rnd = random.Random(1337)\n",
        "    rnd.shuffle(file_names)\n",
        "    val_count = int(0.2 * len(file_names))\n",
        "    selected_for_val = file_names[-val_count:]\n",
        "\n",
        "    for file in selected_for_val:\n",
        "        src = training_path / label / file\n",
        "        dest = validation_path / label / file\n",
        "        if not os.path.exists(dest):\n",
        "            shutil.move(src, dest)\n"
      ],
      "metadata": {
        "id": "3cncowrj-Sf4"
      },
      "execution_count": 52,
      "outputs": []
    },
    {
      "cell_type": "code",
      "source": [
        "# Load IMDB dataset splits\n",
        "train_data = keras.utils.text_dataset_from_directory(\n",
        "    \"aclImdb/train\", batch_size=batch_sz\n",
        ")\n",
        "\n",
        "validation_data = keras.utils.text_dataset_from_directory(\n",
        "    \"aclImdb/val\", batch_size=batch_sz\n",
        ")\n",
        "\n",
        "test_data = keras.utils.text_dataset_from_directory(\n",
        "    \"aclImdb/test\", batch_size=batch_sz\n",
        ")\n",
        "\n",
        "text_only_train = train_data.map(lambda text, label: text)\n"
      ],
      "metadata": {
        "colab": {
          "base_uri": "https://localhost:8080/"
        },
        "id": "i0hEi8mV_W3S",
        "outputId": "7c1a3296-58c4-45d0-e445-9a5f9b87b74e"
      },
      "execution_count": 53,
      "outputs": [
        {
          "output_type": "stream",
          "name": "stdout",
          "text": [
            "Found 25000 files belonging to 2 classes.\n",
            "Found 5000 files belonging to 2 classes.\n",
            "Found 25000 files belonging to 2 classes.\n"
          ]
        }
      ]
    },
    {
      "cell_type": "code",
      "source": [
        "# Define tokenization settings\n",
        "seq_len = 150\n",
        "vocab_limit = 10000\n",
        "tokenizer = layers.TextVectorization(\n",
        "    max_tokens=vocab_limit,\n",
        "    output_mode=\"int\",\n",
        "    output_sequence_length=seq_len,\n",
        ")\n",
        "\n",
        "tokenizer.adapt(text_only_train)\n",
        "\n"
      ],
      "metadata": {
        "id": "aqUL5oXx_ZOh"
      },
      "execution_count": 54,
      "outputs": []
    },
    {
      "cell_type": "code",
      "source": [
        "# Tokenize the datasets\n",
        "encoded_train_ds = train_data.map(\n",
        "    lambda text, label: (tokenizer(text), label),\n",
        "    num_parallel_calls=4).take(100)  # Limit to 100 training samples\n",
        "\n",
        "encoded_val_ds = validation_data.map(\n",
        "    lambda text, label: (tokenizer(text), label),\n",
        "    num_parallel_calls=4).take(10000)  # Limit to 10,000 validation samples\n",
        "\n",
        "encoded_test_ds = test_data.map(\n",
        "    lambda text, label: (tokenizer(text), label),\n",
        "    num_parallel_calls=4)\n"
      ],
      "metadata": {
        "id": "hxUZ2xz5BI1p"
      },
      "execution_count": 55,
      "outputs": []
    },
    {
      "cell_type": "code",
      "source": [
        "# Model with embedding and LSTM layers\n",
        "input_layer = tf.keras.Input(shape=(None,), dtype=\"int64\")\n",
        "embedded_layer = layers.Embedding(input_dim=vocab_limit, output_dim=128)(input_layer)\n",
        "encoded_output = layers.Bidirectional(layers.LSTM(32))(embedded_layer)\n",
        "dropout_layer = layers.Dropout(0.2)(encoded_output)\n",
        "output_layer = layers.Dense(1, activation=\"sigmoid\")(dropout_layer)\n",
        "\n",
        "embedding_model = tf.keras.Model(input_layer, output_layer)\n",
        "\n",
        "embedding_model.compile(optimizer=\"rmsprop\",\n",
        "                        loss=\"binary_crossentropy\",\n",
        "                        metrics=[\"accuracy\"])\n",
        "\n",
        "embedding_model.summary()\n"
      ],
      "metadata": {
        "colab": {
          "base_uri": "https://localhost:8080/",
          "height": 301
        },
        "id": "JzmK1bt4BY-s",
        "outputId": "37158591-ddfb-4cc2-80b6-452f0bc645ed"
      },
      "execution_count": 56,
      "outputs": [
        {
          "output_type": "display_data",
          "data": {
            "text/plain": [
              "\u001b[1mModel: \"functional_3\"\u001b[0m\n"
            ],
            "text/html": [
              "<pre style=\"white-space:pre;overflow-x:auto;line-height:normal;font-family:Menlo,'DejaVu Sans Mono',consolas,'Courier New',monospace\"><span style=\"font-weight: bold\">Model: \"functional_3\"</span>\n",
              "</pre>\n"
            ]
          },
          "metadata": {}
        },
        {
          "output_type": "display_data",
          "data": {
            "text/plain": [
              "┏━━━━━━━━━━━━━━━━━━━━━━━━━━━━━━━━━━━━━━┳━━━━━━━━━━━━━━━━━━━━━━━━━━━━━┳━━━━━━━━━━━━━━━━━┓\n",
              "┃\u001b[1m \u001b[0m\u001b[1mLayer (type)                        \u001b[0m\u001b[1m \u001b[0m┃\u001b[1m \u001b[0m\u001b[1mOutput Shape               \u001b[0m\u001b[1m \u001b[0m┃\u001b[1m \u001b[0m\u001b[1m        Param #\u001b[0m\u001b[1m \u001b[0m┃\n",
              "┡━━━━━━━━━━━━━━━━━━━━━━━━━━━━━━━━━━━━━━╇━━━━━━━━━━━━━━━━━━━━━━━━━━━━━╇━━━━━━━━━━━━━━━━━┩\n",
              "│ input_layer_4 (\u001b[38;5;33mInputLayer\u001b[0m)           │ (\u001b[38;5;45mNone\u001b[0m, \u001b[38;5;45mNone\u001b[0m)                │               \u001b[38;5;34m0\u001b[0m │\n",
              "├──────────────────────────────────────┼─────────────────────────────┼─────────────────┤\n",
              "│ embedding_2 (\u001b[38;5;33mEmbedding\u001b[0m)              │ (\u001b[38;5;45mNone\u001b[0m, \u001b[38;5;45mNone\u001b[0m, \u001b[38;5;34m128\u001b[0m)           │       \u001b[38;5;34m1,280,000\u001b[0m │\n",
              "├──────────────────────────────────────┼─────────────────────────────┼─────────────────┤\n",
              "│ bidirectional_3 (\u001b[38;5;33mBidirectional\u001b[0m)      │ (\u001b[38;5;45mNone\u001b[0m, \u001b[38;5;34m64\u001b[0m)                  │          \u001b[38;5;34m41,216\u001b[0m │\n",
              "├──────────────────────────────────────┼─────────────────────────────┼─────────────────┤\n",
              "│ dropout_3 (\u001b[38;5;33mDropout\u001b[0m)                  │ (\u001b[38;5;45mNone\u001b[0m, \u001b[38;5;34m64\u001b[0m)                  │               \u001b[38;5;34m0\u001b[0m │\n",
              "├──────────────────────────────────────┼─────────────────────────────┼─────────────────┤\n",
              "│ dense_3 (\u001b[38;5;33mDense\u001b[0m)                      │ (\u001b[38;5;45mNone\u001b[0m, \u001b[38;5;34m1\u001b[0m)                   │              \u001b[38;5;34m65\u001b[0m │\n",
              "└──────────────────────────────────────┴─────────────────────────────┴─────────────────┘\n"
            ],
            "text/html": [
              "<pre style=\"white-space:pre;overflow-x:auto;line-height:normal;font-family:Menlo,'DejaVu Sans Mono',consolas,'Courier New',monospace\">┏━━━━━━━━━━━━━━━━━━━━━━━━━━━━━━━━━━━━━━┳━━━━━━━━━━━━━━━━━━━━━━━━━━━━━┳━━━━━━━━━━━━━━━━━┓\n",
              "┃<span style=\"font-weight: bold\"> Layer (type)                         </span>┃<span style=\"font-weight: bold\"> Output Shape                </span>┃<span style=\"font-weight: bold\">         Param # </span>┃\n",
              "┡━━━━━━━━━━━━━━━━━━━━━━━━━━━━━━━━━━━━━━╇━━━━━━━━━━━━━━━━━━━━━━━━━━━━━╇━━━━━━━━━━━━━━━━━┩\n",
              "│ input_layer_4 (<span style=\"color: #0087ff; text-decoration-color: #0087ff\">InputLayer</span>)           │ (<span style=\"color: #00d7ff; text-decoration-color: #00d7ff\">None</span>, <span style=\"color: #00d7ff; text-decoration-color: #00d7ff\">None</span>)                │               <span style=\"color: #00af00; text-decoration-color: #00af00\">0</span> │\n",
              "├──────────────────────────────────────┼─────────────────────────────┼─────────────────┤\n",
              "│ embedding_2 (<span style=\"color: #0087ff; text-decoration-color: #0087ff\">Embedding</span>)              │ (<span style=\"color: #00d7ff; text-decoration-color: #00d7ff\">None</span>, <span style=\"color: #00d7ff; text-decoration-color: #00d7ff\">None</span>, <span style=\"color: #00af00; text-decoration-color: #00af00\">128</span>)           │       <span style=\"color: #00af00; text-decoration-color: #00af00\">1,280,000</span> │\n",
              "├──────────────────────────────────────┼─────────────────────────────┼─────────────────┤\n",
              "│ bidirectional_3 (<span style=\"color: #0087ff; text-decoration-color: #0087ff\">Bidirectional</span>)      │ (<span style=\"color: #00d7ff; text-decoration-color: #00d7ff\">None</span>, <span style=\"color: #00af00; text-decoration-color: #00af00\">64</span>)                  │          <span style=\"color: #00af00; text-decoration-color: #00af00\">41,216</span> │\n",
              "├──────────────────────────────────────┼─────────────────────────────┼─────────────────┤\n",
              "│ dropout_3 (<span style=\"color: #0087ff; text-decoration-color: #0087ff\">Dropout</span>)                  │ (<span style=\"color: #00d7ff; text-decoration-color: #00d7ff\">None</span>, <span style=\"color: #00af00; text-decoration-color: #00af00\">64</span>)                  │               <span style=\"color: #00af00; text-decoration-color: #00af00\">0</span> │\n",
              "├──────────────────────────────────────┼─────────────────────────────┼─────────────────┤\n",
              "│ dense_3 (<span style=\"color: #0087ff; text-decoration-color: #0087ff\">Dense</span>)                      │ (<span style=\"color: #00d7ff; text-decoration-color: #00d7ff\">None</span>, <span style=\"color: #00af00; text-decoration-color: #00af00\">1</span>)                   │              <span style=\"color: #00af00; text-decoration-color: #00af00\">65</span> │\n",
              "└──────────────────────────────────────┴─────────────────────────────┴─────────────────┘\n",
              "</pre>\n"
            ]
          },
          "metadata": {}
        },
        {
          "output_type": "display_data",
          "data": {
            "text/plain": [
              "\u001b[1m Total params: \u001b[0m\u001b[38;5;34m1,321,281\u001b[0m (5.04 MB)\n"
            ],
            "text/html": [
              "<pre style=\"white-space:pre;overflow-x:auto;line-height:normal;font-family:Menlo,'DejaVu Sans Mono',consolas,'Courier New',monospace\"><span style=\"font-weight: bold\"> Total params: </span><span style=\"color: #00af00; text-decoration-color: #00af00\">1,321,281</span> (5.04 MB)\n",
              "</pre>\n"
            ]
          },
          "metadata": {}
        },
        {
          "output_type": "display_data",
          "data": {
            "text/plain": [
              "\u001b[1m Trainable params: \u001b[0m\u001b[38;5;34m1,321,281\u001b[0m (5.04 MB)\n"
            ],
            "text/html": [
              "<pre style=\"white-space:pre;overflow-x:auto;line-height:normal;font-family:Menlo,'DejaVu Sans Mono',consolas,'Courier New',monospace\"><span style=\"font-weight: bold\"> Trainable params: </span><span style=\"color: #00af00; text-decoration-color: #00af00\">1,321,281</span> (5.04 MB)\n",
              "</pre>\n"
            ]
          },
          "metadata": {}
        },
        {
          "output_type": "display_data",
          "data": {
            "text/plain": [
              "\u001b[1m Non-trainable params: \u001b[0m\u001b[38;5;34m0\u001b[0m (0.00 B)\n"
            ],
            "text/html": [
              "<pre style=\"white-space:pre;overflow-x:auto;line-height:normal;font-family:Menlo,'DejaVu Sans Mono',consolas,'Courier New',monospace\"><span style=\"font-weight: bold\"> Non-trainable params: </span><span style=\"color: #00af00; text-decoration-color: #00af00\">0</span> (0.00 B)\n",
              "</pre>\n"
            ]
          },
          "metadata": {}
        }
      ]
    },
    {
      "cell_type": "code",
      "source": [
        "callbacks_list = [\n",
        "    tf.keras.callbacks.ModelCheckpoint(\"embedding_model.keras\", save_best_only=True)\n",
        "]\n"
      ],
      "metadata": {
        "id": "lp_yLGz3B1fb"
      },
      "execution_count": 57,
      "outputs": []
    },
    {
      "cell_type": "code",
      "source": [
        "checkpoint_callbacks = [\n",
        "    tf.keras.callbacks.ModelCheckpoint(\"best_embedding_model.keras\", save_best_only=True)\n",
        "]\n"
      ],
      "metadata": {
        "id": "zuevEZ-6B_Xb"
      },
      "execution_count": 58,
      "outputs": []
    },
    {
      "cell_type": "code",
      "source": [
        "import matplotlib.pyplot as plt\n",
        "\n",
        "# Fit the model and store the training history\n",
        "history_embedded = embedding_model.fit(\n",
        "    encoded_train_ds,\n",
        "    validation_data=encoded_val_ds,\n",
        "    epochs=10,  # Adjust the number of epochs as needed\n",
        "    callbacks=checkpoint_callbacks  # Or callbacks_list, if preferred\n",
        ")\n",
        "\n",
        "# Extract the training history\n",
        "train_history = history_embedded.history\n",
        "\n",
        "# Plot training and validation performance\n",
        "plt.figure(figsize=(12, 5))\n",
        "\n",
        "# Subplot for accuracy\n",
        "plt.subplot(1, 2, 1)\n",
        "plt.plot(train_history['accuracy'], label='Train Accuracy')\n",
        "plt.plot(train_history['val_accuracy'], label='Validation Accuracy')\n",
        "plt.title('Training vs Validation Accuracy')\n",
        "plt.xlabel('Epochs')\n",
        "plt.ylabel('Accuracy')\n",
        "plt.legend()\n",
        "\n",
        "# Subplot for loss\n",
        "plt.subplot(1, 2, 2)\n",
        "plt.plot(train_history['loss'], label='Train Loss')\n",
        "plt.plot(train_history['val_loss'], label='Validation Loss')\n",
        "plt.title('Training vs Validation Loss')\n",
        "plt.xlabel('Epochs')\n",
        "plt.ylabel('Loss')\n",
        "plt.legend()\n",
        "\n",
        "# Adjust layout and display the plot\n",
        "plt.tight_layout()\n",
        "plt.show()"
      ],
      "metadata": {
        "colab": {
          "base_uri": "https://localhost:8080/",
          "height": 702
        },
        "id": "Fl1B46W8CZ2Y",
        "outputId": "4f220534-0e03-4266-8537-a841b322503e"
      },
      "execution_count": 59,
      "outputs": [
        {
          "output_type": "stream",
          "name": "stdout",
          "text": [
            "Epoch 1/10\n",
            "\u001b[1m100/100\u001b[0m \u001b[32m━━━━━━━━━━━━━━━━━━━━\u001b[0m\u001b[37m\u001b[0m \u001b[1m12s\u001b[0m 90ms/step - accuracy: 0.5270 - loss: 0.6920 - val_accuracy: 0.6128 - val_loss: 0.6667\n",
            "Epoch 2/10\n",
            "\u001b[1m100/100\u001b[0m \u001b[32m━━━━━━━━━━━━━━━━━━━━\u001b[0m\u001b[37m\u001b[0m \u001b[1m8s\u001b[0m 84ms/step - accuracy: 0.6359 - loss: 0.6423 - val_accuracy: 0.7410 - val_loss: 0.5615\n",
            "Epoch 3/10\n",
            "\u001b[1m100/100\u001b[0m \u001b[32m━━━━━━━━━━━━━━━━━━━━\u001b[0m\u001b[37m\u001b[0m \u001b[1m9s\u001b[0m 85ms/step - accuracy: 0.7834 - loss: 0.4964 - val_accuracy: 0.7872 - val_loss: 0.4745\n",
            "Epoch 4/10\n",
            "\u001b[1m100/100\u001b[0m \u001b[32m━━━━━━━━━━━━━━━━━━━━\u001b[0m\u001b[37m\u001b[0m \u001b[1m9s\u001b[0m 85ms/step - accuracy: 0.8451 - loss: 0.3807 - val_accuracy: 0.8114 - val_loss: 0.4286\n",
            "Epoch 5/10\n",
            "\u001b[1m100/100\u001b[0m \u001b[32m━━━━━━━━━━━━━━━━━━━━\u001b[0m\u001b[37m\u001b[0m \u001b[1m9s\u001b[0m 86ms/step - accuracy: 0.8800 - loss: 0.3172 - val_accuracy: 0.8040 - val_loss: 0.4255\n",
            "Epoch 6/10\n",
            "\u001b[1m100/100\u001b[0m \u001b[32m━━━━━━━━━━━━━━━━━━━━\u001b[0m\u001b[37m\u001b[0m \u001b[1m8s\u001b[0m 84ms/step - accuracy: 0.9092 - loss: 0.2555 - val_accuracy: 0.7414 - val_loss: 0.5901\n",
            "Epoch 7/10\n",
            "\u001b[1m100/100\u001b[0m \u001b[32m━━━━━━━━━━━━━━━━━━━━\u001b[0m\u001b[37m\u001b[0m \u001b[1m9s\u001b[0m 85ms/step - accuracy: 0.9311 - loss: 0.2004 - val_accuracy: 0.8178 - val_loss: 0.4241\n",
            "Epoch 8/10\n",
            "\u001b[1m100/100\u001b[0m \u001b[32m━━━━━━━━━━━━━━━━━━━━\u001b[0m\u001b[37m\u001b[0m \u001b[1m8s\u001b[0m 85ms/step - accuracy: 0.9491 - loss: 0.1567 - val_accuracy: 0.8156 - val_loss: 0.4555\n",
            "Epoch 9/10\n",
            "\u001b[1m100/100\u001b[0m \u001b[32m━━━━━━━━━━━━━━━━━━━━\u001b[0m\u001b[37m\u001b[0m \u001b[1m8s\u001b[0m 82ms/step - accuracy: 0.9601 - loss: 0.1228 - val_accuracy: 0.7896 - val_loss: 0.6518\n",
            "Epoch 10/10\n",
            "\u001b[1m100/100\u001b[0m \u001b[32m━━━━━━━━━━━━━━━━━━━━\u001b[0m\u001b[37m\u001b[0m \u001b[1m8s\u001b[0m 83ms/step - accuracy: 0.9631 - loss: 0.1119 - val_accuracy: 0.8002 - val_loss: 0.5242\n"
          ]
        },
        {
          "output_type": "display_data",
          "data": {
            "text/plain": [
              "<Figure size 1200x500 with 2 Axes>"
            ],
            "image/png": "[encoded data removed]"
          },
          "metadata": {}
        }
      ]
    },
    {
      "cell_type": "code",
      "source": [
        "# Download and extract GloVe word embeddings\n",
        "!wget http://nlp.stanford.edu/data/glove.6B.zip -O glove_embeddings.zip\n",
        "!unzip -q glove_embeddings.zip\n"
      ],
      "metadata": {
        "colab": {
          "base_uri": "https://localhost:8080/"
        },
        "id": "cOVEPQ5JC_Ne",
        "outputId": "1b5454c1-27f0-44b1-f751-3f101dd73fdb"
      },
      "execution_count": null,
      "outputs": [
        {
          "output_type": "stream",
          "name": "stdout",
          "text": [
            "--2025-04-08 16:57:14--  http://nlp.stanford.edu/data/glove.6B.zip\n",
            "Resolving nlp.stanford.edu (nlp.stanford.edu)... 171.64.67.140\n",
            "Connecting to nlp.stanford.edu (nlp.stanford.edu)|171.64.67.140|:80... connected.\n",
            "HTTP request sent, awaiting response... 302 Found\n",
            "Location: https://nlp.stanford.edu/data/glove.6B.zip [following]\n",
            "--2025-04-08 16:57:14--  https://nlp.stanford.edu/data/glove.6B.zip\n",
            "Connecting to nlp.stanford.edu (nlp.stanford.edu)|171.64.67.140|:443... connected.\n",
            "HTTP request sent, awaiting response... 301 Moved Permanently\n",
            "Location: https://downloads.cs.stanford.edu/nlp/data/glove.6B.zip [following]\n",
            "--2025-04-08 16:57:15--  https://downloads.cs.stanford.edu/nlp/data/glove.6B.zip\n",
            "Resolving downloads.cs.stanford.edu (downloads.cs.stanford.edu)... 171.64.64.22\n",
            "Connecting to downloads.cs.stanford.edu (downloads.cs.stanford.edu)|171.64.64.22|:443... connected.\n",
            "HTTP request sent, awaiting response... 200 OK\n",
            "Length: 862182613 (822M) [application/zip]\n",
            "Saving to: ‘glove_embeddings.zip’\n",
            "\n",
            "glove_embeddings.zi 100%[===================>] 822.24M  3.08MB/s    in 3m 0s   \n",
            "\n",
            "2025-04-08 17:00:15 (4.57 MB/s) - ‘glove_embeddings.zip’ saved [862182613/862182613]\n",
            "\n",
            "replace glove.6B.50d.txt? [y]es, [n]o, [A]ll, [N]one, [r]ename: "
          ]
        }
      ]
    },
    {
      "cell_type": "code",
      "source": [
        "# Prepare the GloVe embedding matrix\n",
        "embedding_dim = 100\n",
        "glove_file_path = \"glove.6B.100d.txt\"\n",
        "\n",
        "embeddings_dict = {}\n",
        "with open(glove_file_path) as f:\n",
        "    for line in f:\n",
        "        word, coefficients = line.split(maxsplit=1)\n",
        "        coefficients = np.fromstring(coefficients, \"f\", sep=\" \")\n",
        "        embeddings_dict[word] = coefficients\n",
        "\n",
        "vocab_list = tokenizer.get_vocabulary()\n",
        "word_to_idx = dict(zip(vocab_list, range(len(vocab_list))))\n",
        "\n",
        "embedding_matrix = np.zeros((vocab_limit, embedding_dim))\n",
        "for word, index in word_to_idx.items():\n",
        "    if index < vocab_limit:\n",
        "        vector = embeddings_dict.get(word)\n",
        "        if vector is not None:\n",
        "            embedding_matrix[index] = vector\n"
      ],
      "metadata": {
        "id": "E14vhpKFDAxF"
      },
      "execution_count": null,
      "outputs": []
    },
    {
      "cell_type": "code",
      "source": [
        "# Pretrained embedding layer model\n",
        "embedding_layer = layers.Embedding(\n",
        "    vocab_limit,\n",
        "    embedding_dim,\n",
        "    embeddings_initializer=tf.keras.initializers.Constant(embedding_matrix),\n",
        "    trainable=False,\n",
        "    mask_zero=True,\n",
        ")\n",
        "\n",
        "input_layer = tf.keras.Input(shape=(None,), dtype=\"int64\")\n",
        "embedded_output = embedding_layer(input_layer)\n",
        "encoded_output = layers.Bidirectional(layers.LSTM(32))(embedded_output)\n",
        "dropout_layer = layers.Dropout(0.2)(encoded_output)\n",
        "output_layer = layers.Dense(1, activation=\"sigmoid\")(dropout_layer)\n",
        "\n",
        "pretrained_embedding_model = tf.keras.Model(input_layer, output_layer)\n"
      ],
      "metadata": {
        "id": "SYvhwuqgDSoZ"
      },
      "execution_count": null,
      "outputs": []
    },
    {
      "cell_type": "code",
      "source": [
        "import tensorflow as tf\n",
        "from tensorflow import keras\n",
        "from tensorflow.keras import layers as l # Import layers and assign alias 'l'\n",
        "\n",
        "input_layer = tf.keras.Input(shape=(None,), dtype=\"int64\")\n",
        "embedded_output = embedding_layer(input_layer)\n",
        "encoded_output = l.Bidirectional(l.LSTM(32))(embedded_output)\n",
        "dropout_layer = l.Dropout(0.2)(encoded_output)\n",
        "output_layer = l.Dense(1, activation=\"sigmoid\")(dropout_layer)\n",
        "\n",
        "pretrained_model = tf.keras.Model(input_layer, output_layer)\n",
        "\n",
        "pretrained_model.compile(optimizer=\"rmsprop\",\n",
        "                         loss=\"binary_crossentropy\",\n",
        "                         metrics=[\"accuracy\"])\n",
        "\n",
        "pretrained_model.summary()"
      ],
      "metadata": {
        "id": "83hVDAy1DekZ"
      },
      "execution_count": null,
      "outputs": []
    },
    {
      "cell_type": "code",
      "source": [
        "training_callbacks = [\n",
        "    keras.callbacks.ModelCheckpoint(\"pretrained_lstm_model.keras\", save_best_only=True)\n",
        "]\n",
        "\n",
        "training_history = pretrained_model.fit(\n",
        "    encoded_train_ds,\n",
        "    validation_data=encoded_val_ds,\n",
        "    epochs=10,\n",
        "    callbacks=training_callbacks\n",
        ")"
      ],
      "metadata": {
        "id": "mrqRq356EzDu"
      },
      "execution_count": null,
      "outputs": []
    },
    {
      "cell_type": "code",
      "source": [
        "import matplotlib.pyplot as plt\n",
        "\n",
        "# Extract training history\n",
        "metrics = training_history.history # Changed from history_pretrained to training_history\n",
        "\n",
        "# Create a figure with two subplots\n",
        "plt.figure(figsize=(12, 5))\n",
        "\n",
        "# Accuracy plot\n",
        "plt.subplot(1, 2, 1)\n",
        "plt.plot(metrics['accuracy'], label='Train Accuracy', marker='o')\n",
        "plt.plot(metrics['val_accuracy'], label='Val Accuracy', marker='o')\n",
        "plt.title('Accuracy Over Epochs')\n",
        "plt.xlabel('Epoch')\n",
        "plt.ylabel('Accuracy')\n",
        "plt.legend()\n",
        "plt.grid(True)\n",
        "\n",
        "# Loss plot\n",
        "plt.subplot(1, 2, 2)\n",
        "plt.plot(metrics['loss'], label='Train Loss', marker='o')\n",
        "plt.plot(metrics['val_loss'], label='Val Loss', marker='o')\n",
        "plt.title('Loss Over Epochs')\n",
        "plt.xlabel('Epoch')\n",
        "plt.ylabel('Loss')\n",
        "plt.legend()\n",
        "plt.grid(True)\n",
        "\n",
        "# Display the plots\n",
        "plt.tight_layout()\n",
        "plt.show()"
      ],
      "metadata": {
        "id": "mmytdLMhIni7"
      },
      "execution_count": null,
      "outputs": []
    },
    {
      "cell_type": "code",
      "source": [
        "import numpy as np\n",
        "import matplotlib.pyplot as plt\n",
        "import time\n",
        "\n",
        "# Define training sizes\n",
        "sample_sizes = [100, 200, 500, 1000]\n",
        "embed_accs = []\n",
        "pretrained_accs = []\n",
        "\n",
        "# Setup plot\n",
        "plt.figure(figsize=(12, 6))\n",
        "plt.title('Model Accuracy vs. Training Sample Sizes')\n",
        "plt.xlabel('Training Sample Size')\n",
        "plt.ylabel('Accuracy')\n",
        "plt.grid(True)\n",
        "\n",
        "# Iterate through each sample size\n",
        "for size in sample_sizes:\n",
        "    print(f\"\\n### Training with {size} samples ###\")\n",
        "\n",
        "    # Prepare dataset of current sample size\n",
        "    limited_train_ds = train_data.take(size)\n",
        "    # Tokenize the limited dataset\n",
        "    limited_encoded_train_ds = limited_train_ds.map(lambda text, label: (tokenizer(text), label))\n",
        "\n",
        "\n",
        "    # Train custom embedding model\n",
        "    print(\"→ Training Custom Embedding Model\")\n",
        "    embedding_model.fit(limited_encoded_train_ds, validation_data=encoded_val_ds, epochs=10, verbose=0)\n",
        "    acc_embed = embedding_model.evaluate(encoded_test_ds, verbose=0)[1]\n",
        "    embed_accs.append(acc_embed)\n",
        "    print(f\"Custom Embedding Accuracy: {acc_embed:.4f}\")\n",
        "\n",
        "    # Train pretrained embedding model\n",
        "    print(\"→ Training Pretrained Embedding Model\")\n",
        "    pretrained_model.fit(limited_encoded_train_ds, validation_data=encoded_val_ds, epochs=10, verbose=0)\n",
        "    acc_pretrained = pretrained_model.evaluate(encoded_test_ds, verbose=0)[1]\n",
        "    pretrained_accs.append(acc_pretrained)\n",
        "    print(f\"Pretrained Embedding Accuracy: {acc_pretrained:.4f}\")\n",
        "\n",
        "# Plot final results\n",
        "plt.plot(sample_sizes, embed_accs, marker='o', label='Custom Embedding', color='royalblue')\n",
        "plt.plot(sample_sizes, pretrained_accs, marker='s', label='Pretrained Embedding', color='darkorange')\n",
        "plt.xticks(sample_sizes)\n",
        "plt.legend()\n",
        "plt.tight_layout()\n",
        "plt.show()"
      ],
      "metadata": {
        "id": "QWkg3QwLJKSF"
      },
      "execution_count": null,
      "outputs": []
    },
    {
      "cell_type": "code",
      "source": [
        "import pandas as pd\n",
        "\n",
        "# Combine results into a single DataFrame\n",
        "summary_df = pd.DataFrame({\n",
        "    \"Sample Size\": sample_sizes,\n",
        "    \"Custom Embedding Accuracy\": embedding_accuracies,\n",
        "    \"Pretrained Embedding Accuracy\": pretrained_accuracies\n",
        "})\n",
        "\n",
        "# Display summary table\n",
        "print(\"\\n=== Model Accuracy Summary ===\")\n",
        "print(summary_df.to_string(index=False))\n"
      ],
      "metadata": {
        "id": "p8zKqO1HQ0XN"
      },
      "execution_count": null,
      "outputs": []
    },
    {
      "cell_type": "code",
      "source": [
        "import numpy as np\n",
        "import matplotlib.pyplot as plt\n",
        "\n",
        "# Define model names and final validation accuracies\n",
        "models = ['Custom Embedding', 'Pretrained Embedding']\n",
        "final_val_accuracies = [\n",
        "    history_embedded.history['val_accuracy'][-1],\n",
        "    history_pretrained.history['val_accuracy'][-1]\n",
        "]\n",
        "\n",
        "# Create bar plot\n",
        "plt.figure(figsize=(8, 5))\n",
        "bars = plt.bar(models, final_val_accuracies, color=['mediumseagreen', 'gold'], width=0.6)\n",
        "\n",
        "# Add labels and title\n",
        "plt.ylabel('Validation Accuracy', fontsize=12)\n",
        "plt.title('Comparison of Final Validation Accuracy', fontsize=14)\n",
        "\n",
        "# Annotate bars with accuracy values\n",
        "for bar in bars:\n",
        "    height = bar.get_height()\n",
        "    plt.text(bar.get_x() + bar.get_width()/2, height + 0.005,\n",
        "             f'{height:.4f}', ha='center', va='bottom', fontsize=11)\n",
        "\n",
        "# Show the plot\n",
        "plt.tight_layout()\n",
        "plt.show()\n"
      ],
      "metadata": {
        "id": "sUSVmuTwR50I"
      },
      "execution_count": null,
      "outputs": []
    },
    {
      "cell_type": "code",
      "source": [
        "import numpy as np\n",
        "import matplotlib.pyplot as plt\n",
        "\n",
        "# Data\n",
        "sample_sizes = [100, 200, 500, 1000]\n",
        "embedding_accuracies = [0.75280, 0.77556, 0.80652, 0.81772]\n",
        "pretrained_accuracies = [0.78072, 0.80588, 0.81868, 0.82456]\n",
        "\n",
        "# Setup\n",
        "bar_width = 0.25\n",
        "x = np.arange(len(sample_sizes))\n",
        "\n",
        "# Plot\n",
        "plt.figure(figsize=(10, 6))\n",
        "\n",
        "# Bars\n",
        "bars1 = plt.bar(x - bar_width/2, embedding_accuracies, width=bar_width,\n",
        "                color='cornflowerblue', label='Custom Embedding')\n",
        "bars2 = plt.bar(x + bar_width/2, pretrained_accuracies, width=bar_width,\n",
        "                color='gold', label='Pretrained Embedding')\n",
        "\n",
        "# Lines\n",
        "plt.plot(x - bar_width/2, embedding_accuracies, marker='o',\n",
        "         color='blue', linestyle='--', label='Custom Embedding (Line)')\n",
        "plt.plot(x + bar_width/2, pretrained_accuracies, marker='o',\n",
        "         color='darkorange', linestyle='--', label='Pretrained Embedding (Line)')\n",
        "\n",
        "# Labels & title\n",
        "plt.xlabel('Training Sample Size', fontsize=12)\n",
        "plt.ylabel('Final Test Accuracy', fontsize=12)\n",
        "plt.title('Final Test Accuracy vs. Training Sample Size', fontsize=14)\n",
        "plt.xticks(x, sample_sizes)\n",
        "plt.ylim(0.7, 0.85)\n",
        "plt.legend()\n",
        "\n",
        "# Annotate values\n",
        "for i in range(len(sample_sizes)):\n",
        "    plt.text(x[i] - bar_width/2, embedding_accuracies[i] + 0.003,\n",
        "             f'{embedding_accuracies[i]:.4f}', ha='center', fontsize=10)\n",
        "    plt.text(x[i] + bar_width/2, pretrained_accuracies[i] + 0.003,\n",
        "             f'{pretrained_accuracies[i]:.4f}', ha='center', fontsize=10)\n",
        "\n",
        "# Final touches\n",
        "plt.grid(axis='y', linestyle=':', alpha=0.7)\n",
        "plt.tight_layout()\n",
        "plt.show()\n"
      ],
      "metadata": {
        "id": "aEvdyYr5SPLs"
      },
      "execution_count": null,
      "outputs": []
    },
    {
      "cell_type": "code",
      "source": [],
      "metadata": {
        "id": "TaEeb_nvSwSw"
      },
      "execution_count": null,
      "outputs": []
    }
  ]
}